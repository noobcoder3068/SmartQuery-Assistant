{
  "nbformat": 4,
  "nbformat_minor": 0,
  "metadata": {
    "colab": {
      "provenance": [],
      "authorship_tag": "ABX9TyOUpP71+HGjiVAkUSLf6X91",
      "include_colab_link": true
    },
    "kernelspec": {
      "name": "python3",
      "display_name": "Python 3"
    },
    "language_info": {
      "name": "python"
    }
  },
  "cells": [
    {
      "cell_type": "markdown",
      "metadata": {
        "id": "view-in-github",
        "colab_type": "text"
      },
      "source": [
        "<a href=\"https://colab.research.google.com/github/noobcoder3068/SmartQuery-Assistant/blob/main/text.ipynb\" target=\"_parent\"><img src=\"https://colab.research.google.com/assets/colab-badge.svg\" alt=\"Open In Colab\"/></a>"
      ]
    },
    {
      "cell_type": "code",
      "execution_count": 2,
      "metadata": {
        "colab": {
          "base_uri": "https://localhost:8080/"
        },
        "id": "gyv0WYZRy9GA",
        "outputId": "dd0fe405-f16c-46d3-883e-a610b5fd9a38"
      },
      "outputs": [
        {
          "output_type": "stream",
          "name": "stdout",
          "text": [
            "Mounted at /content/drive\n"
          ]
        }
      ],
      "source": [
        "from google.colab import drive\n",
        "drive.mount('/content/drive')"
      ]
    },
    {
      "cell_type": "code",
      "source": [
        "file_path= \"/content/drive/MyDrive/chunk_conv/event.txt\""
      ],
      "metadata": {
        "id": "Poc92KgkzOVE"
      },
      "execution_count": 3,
      "outputs": []
    },
    {
      "cell_type": "code",
      "source": [
        "with open(file_path, \"w\") as f:\n",
        "  f.write(\"\"\"This database is used to track when and where users access gates across an organization.\n",
        "  The core table is events, which logs every access attempt. Each row in the events table links to\n",
        "  the organisation_users table through the orguserid column and to\n",
        "  the access_points table through the accesspointid column. The organisation_users table maps\n",
        "  each orguserid to a user's name, and the access_points table maps the gate/door name as\n",
        "  accesspointname, which describe where the access occurred. This structure enables the system to determine who accessed which door and when.\n",
        "\n",
        "The events table includes several time fields. The recommended column for all\n",
        "date- or time-based queries is timezonedeventtime, which is already localized to\n",
        "the relevant time zone and formatted for human readability. Other time fields like\n",
        "eventtimeepoch and tzdatetime exist but are not typically needed and should be ignored\n",
        "unless specifically required. the direction column in events table tells about the entry and\n",
        "exit of user so if the user asks for number of entries and exits\n",
        "and all those type of question use this column or else dont use\n",
        "\n",
        "All other columns in the database, including IDs and names, are stored as text and are\n",
        "case-sensitive. This applies to fields such as orguserid, accesspointid, name, accesspointname,\n",
        "accesstype, mobileaccessmode, and even fields that appear numeric. Therefore, SQL\n",
        "queries must use the ILIKE operator instead of = to ensure correct matching regardless\n",
        "of text casing. For example, use WHERE accesspointname ILIKE 'Main Gate' rather than using =.\n",
        "\n",
        "Unless the user explicitly refers to a specific type of access event, the eventtype\n",
        "column in the events table should not be used. Similarly, avoid using columns like\n",
        "accesstype, or mobileaccessmode unless they are mentioned in the user query. Do not add these filters by default.\n",
        "\n",
        "When generating SQL queries, always prefer simple, flat queries. Avoid unnecessary nesting,\n",
        "subqueries, or overly complex joins. Focus on matching only what the prompt requires using\n",
        "the correct fields and relationships, and keep the query readable and minimal unless complexity is clearly demanded by the question.\n",
        "\n",
        "This schema enables reliable, human-centric queries to answer questions like “Who accessed this door yesterday?”,\n",
        "“List all users who visited the site last week”, or “Show all accesses at Main Gate today.”\n",
        "Time filtering should only be applied using the timezonedeventtime column, and all other filters should use ILIKE on the appropriate text fields.\"\"\")"
      ],
      "metadata": {
        "id": "rEE4U_Y7zag9"
      },
      "execution_count": 4,
      "outputs": []
    },
    {
      "cell_type": "code",
      "source": [
        "with open(file_path, \"r\") as r:\n",
        "  content= r.read()\n",
        "  print(content)"
      ],
      "metadata": {
        "colab": {
          "base_uri": "https://localhost:8080/"
        },
        "id": "QvrRosOSzlOT",
        "outputId": "ba668e78-f6ef-4a92-ee73-f65dbc52ee95"
      },
      "execution_count": 5,
      "outputs": [
        {
          "output_type": "stream",
          "name": "stdout",
          "text": [
            "This database is used to track when and where users access gates across an organization.\n",
            "  The core table is events, which logs every access attempt. Each row in the events table links to\n",
            "  the organisation_users table through the orguserid column and to\n",
            "  the access_points table through the accesspointid column. The organisation_users table maps\n",
            "  each orguserid to a user's name, and the access_points table maps the gate/door name as\n",
            "  accesspointname, which describe where the access occurred. This structure enables the system to determine who accessed which door and when.\n",
            "\n",
            "The events table includes several time fields. The recommended column for all\n",
            "date- or time-based queries is timezonedeventtime, which is already localized to\n",
            "the relevant time zone and formatted for human readability. Other time fields like\n",
            "eventtimeepoch and tzdatetime exist but are not typically needed and should be ignored\n",
            "unless specifically required. the direction column in events table tells about the entry and\n",
            "exit of user so if the user asks for number of entries and exits\n",
            "and all those type of question use this column or else dont use\n",
            "\n",
            "All other columns in the database, including IDs and names, are stored as text and are\n",
            "case-sensitive. This applies to fields such as orguserid, accesspointid, name, accesspointname,\n",
            "accesstype, mobileaccessmode, and even fields that appear numeric. Therefore, SQL\n",
            "queries must use the ILIKE operator instead of = to ensure correct matching regardless\n",
            "of text casing. For example, use WHERE accesspointname ILIKE 'Main Gate' rather than using =.\n",
            "\n",
            "Unless the user explicitly refers to a specific type of access event, the eventtype\n",
            "column in the events table should not be used. Similarly, avoid using columns like\n",
            "accesstype, or mobileaccessmode unless they are mentioned in the user query. Do not add these filters by default.\n",
            "\n",
            "When generating SQL queries, always prefer simple, flat queries. Avoid unnecessary nesting,\n",
            "subqueries, or overly complex joins. Focus on matching only what the prompt requires using\n",
            "the correct fields and relationships, and keep the query readable and minimal unless complexity is clearly demanded by the question.\n",
            "\n",
            "This schema enables reliable, human-centric queries to answer questions like “Who accessed this door yesterday?”,\n",
            "“List all users who visited the site last week”, or “Show all accesses at Main Gate today.”\n",
            "Time filtering should only be applied using the timezonedeventtime column, and all other filters should use ILIKE on the appropriate text fields.\n"
          ]
        }
      ]
    },
    {
      "cell_type": "code",
      "source": [],
      "metadata": {
        "id": "EvhBIoKozpFg"
      },
      "execution_count": 5,
      "outputs": []
    }
  ]
}